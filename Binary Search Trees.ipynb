{
 "cells": [
  {
   "cell_type": "code",
   "execution_count": 22,
   "id": "5ebf3892-ed6e-41c5-84ed-f93a86bcbd01",
   "metadata": {},
   "outputs": [
    {
     "name": "stdout",
     "output_type": "stream",
     "text": [
      "The autoreload extension is already loaded. To reload it, use:\n",
      "  %reload_ext autoreload\n"
     ]
    }
   ],
   "source": [
    "from IPython.display import Latex\n",
    "%load_ext autoreload\n",
    "%autoreload 2"
   ]
  },
  {
   "cell_type": "markdown",
   "id": "99746aae-478c-4b26-bfb2-567190bbbfa6",
   "metadata": {},
   "source": [
    "# Binary Search Trees"
   ]
  },
  {
   "cell_type": "markdown",
   "id": "a613b831-3ca6-4bac-b5a2-170dcec21337",
   "metadata": {},
   "source": [
    "BST are basic Data Structures, supporting the operations:\n",
    "- SEARCH\n",
    "- MIN\n",
    "- MAX\n",
    "- PREDECESSOR\n",
    "- SUCCESSOR\n",
    "- INSERT\n",
    "- DELETE"
   ]
  },
  {
   "cell_type": "markdown",
   "id": "f0694f95",
   "metadata": {
    "jupyter": {
     "source_hidden": true
    }
   },
   "source": [
    "Every operation is implemented in $O(log\\, h)$ time, where $h=$height of tree.\n",
    "If the tree is complete, $h\\sim log(n)$ where $n$ is the number of nodes."
   ]
  },
  {
   "cell_type": "markdown",
   "id": "08014c94-334a-44ee-8d11-eeafd05db1a6",
   "metadata": {},
   "source": [
    "## Nodes"
   ]
  },
  {
   "cell_type": "markdown",
   "id": "d54eb1e0-c6bc-4fd7-9a1f-64ea3e5fee34",
   "metadata": {},
   "source": [
    "Each **Node** of a BST is an object with the following properties:\n",
    "- Key\n",
    "- Left child\n",
    "- Right child\n",
    "- Any other data"
   ]
  },
  {
   "cell_type": "code",
   "execution_count": 23,
   "id": "689b7e91-a74a-4166-8e7e-44fab6c71768",
   "metadata": {},
   "outputs": [],
   "source": [
    "class Node:\n",
    "    def __init__(self,val,left=None,right=None,parent=None,data=None):\n",
    "        self.val=val\n",
    "        self.data=data\n",
    "        self.left=left\n",
    "        self.right=right\n",
    "        self.parent=parent"
   ]
  },
  {
   "cell_type": "markdown",
   "id": "1df01263-2de7-4ae2-8e2d-c434d96d0af8",
   "metadata": {},
   "source": [
    "# <font color=red>Basic Algorithms of BSTs</font>"
   ]
  },
  {
   "cell_type": "markdown",
   "id": "f9c2893c-a942-42c5-ad5d-757edf23dd59",
   "metadata": {},
   "source": [
    "### BST Property"
   ]
  },
  {
   "cell_type": "markdown",
   "id": "5ea56059-1e0c-4cd1-a181-451b48669f1c",
   "metadata": {},
   "source": [
    "Keys of nodes of a BST are stored s.t. <font color=red>**BST property**</font> is satisfied:\n",
    "\n",
    "Let x $\\in$ Node;<br>\n",
    "if y is a node in the __left__ subtree of x, then $y.key\\leq x.key$; <br>\n",
    "if y is a node in the __right__ subtree of x, then $y.key\\geq x.key$;"
   ]
  },
  {
   "cell_type": "markdown",
   "id": "35507ae7-5fad-4888-80de-4e780a1936af",
   "metadata": {},
   "source": [
    "## In-order Tree Walk"
   ]
  },
  {
   "cell_type": "markdown",
   "id": "76799fbe-b485-4387-826d-c8505b163890",
   "metadata": {},
   "source": [
    "Algo that recursively prints all keys in a BST in $O(n)$ time, $n=$number of nodes."
   ]
  },
  {
   "cell_type": "code",
   "execution_count": 24,
   "id": "40f421f2-d835-4c5a-85e9-926d81b21d9c",
   "metadata": {},
   "outputs": [],
   "source": [
    "class BST:\n",
    "    def __init__(self,root):\n",
    "        self.root=root\n",
    "    def inorder_tree_walk(self,root):\n",
    "        if root:\n",
    "            self.inorder_tree_walk(root.left)\n",
    "            print(root.val)\n",
    "            self.inorder_tree_walk(root.right)\n",
    "    def printTree(self,root, level=0):\n",
    "        if root != None:\n",
    "            self.printTree(root.right, level + 1)\n",
    "            print(' ' * 4 * level + '-> ' + str(root.val))\n",
    "            self.printTree(root.left, level + 1)"
   ]
  },
  {
   "cell_type": "markdown",
   "id": "15a252cf",
   "metadata": {},
   "source": [
    "This algo prints the BST in **order** from smallest to biggest value, i.e. following the chain __left__$\\rightarrow$__parent__$\\rightarrow$__right__."
   ]
  },
  {
   "cell_type": "markdown",
   "id": "1e7f36b3-a351-439d-9c17-3646045b5493",
   "metadata": {},
   "source": [
    "#### <font color=blue> Example </font>"
   ]
  },
  {
   "cell_type": "code",
   "execution_count": 25,
   "id": "90fe1cad-2f61-4775-bb32-fd9184333c4e",
   "metadata": {},
   "outputs": [],
   "source": [
    "root=Node(3)\n",
    "left1=Node(1)\n",
    "right1=Node(4)\n",
    "root.left=left1\n",
    "root.right=right1\n",
    "left11=Node(0)\n",
    "right11=Node(2)\n",
    "left1.left=left11\n",
    "left1.right=right11\n",
    "bst=BST(root)"
   ]
  },
  {
   "cell_type": "code",
   "execution_count": 26,
   "id": "d610c7e2-3414-4da4-9b99-009693b5ece4",
   "metadata": {},
   "outputs": [
    {
     "name": "stdout",
     "output_type": "stream",
     "text": [
      "    -> 4\n",
      "-> 3\n",
      "        -> 2\n",
      "    -> 1\n",
      "        -> 0\n"
     ]
    }
   ],
   "source": [
    "bst.printTree(bst.root)"
   ]
  },
  {
   "cell_type": "code",
   "execution_count": 27,
   "id": "e910da5e-d7e7-4e3f-b72e-7f901033cdee",
   "metadata": {},
   "outputs": [
    {
     "name": "stdout",
     "output_type": "stream",
     "text": [
      "0\n",
      "1\n",
      "2\n",
      "3\n",
      "4\n"
     ]
    }
   ],
   "source": [
    "bst.inorder_tree_walk(bst.root)"
   ]
  },
  {
   "cell_type": "markdown",
   "id": "bdfe2497",
   "metadata": {},
   "source": [
    "## Pre-order and Post-order Tree Walk"
   ]
  },
  {
   "cell_type": "code",
   "execution_count": 28,
   "id": "c6632a7d",
   "metadata": {},
   "outputs": [],
   "source": [
    "class BST_extension(BST):\n",
    "    def postorder_tree_walk(self,root):\n",
    "        if root:\n",
    "            self.postorder_tree_walk(root.left)\n",
    "            self.postorder_tree_walk(root.right)\n",
    "            print(root.val)\n",
    "    def preorder_tree_walk(self,root):\n",
    "        if root:\n",
    "            print(root.val)\n",
    "            self.preorder_tree_walk(root.left)\n",
    "            self.preorder_tree_walk(root.right)"
   ]
  },
  {
   "cell_type": "code",
   "execution_count": 29,
   "id": "0c3546a6",
   "metadata": {},
   "outputs": [],
   "source": [
    "bst_ext=BST_extension(root)"
   ]
  },
  {
   "cell_type": "code",
   "execution_count": 30,
   "id": "285b6f4a",
   "metadata": {},
   "outputs": [
    {
     "name": "stdout",
     "output_type": "stream",
     "text": [
      "    -> 4\n",
      "-> 3\n",
      "        -> 2\n",
      "    -> 1\n",
      "        -> 0\n"
     ]
    }
   ],
   "source": [
    "bst.printTree(bst.root)"
   ]
  },
  {
   "cell_type": "code",
   "execution_count": 31,
   "id": "5486c92c",
   "metadata": {},
   "outputs": [
    {
     "name": "stdout",
     "output_type": "stream",
     "text": [
      "0\n",
      "2\n",
      "1\n",
      "4\n",
      "3\n"
     ]
    }
   ],
   "source": [
    "bst_ext.postorder_tree_walk(bst.root)"
   ]
  },
  {
   "cell_type": "markdown",
   "id": "8200ac13",
   "metadata": {},
   "source": [
    "**Post-order walk** prints together nodes at the same depth, starting from the bottom and following the chain left→right→parent."
   ]
  },
  {
   "cell_type": "code",
   "execution_count": 32,
   "id": "e5a0b07d",
   "metadata": {},
   "outputs": [
    {
     "name": "stdout",
     "output_type": "stream",
     "text": [
      "3\n",
      "1\n",
      "0\n",
      "2\n",
      "4\n"
     ]
    }
   ],
   "source": [
    "bst_ext.preorder_tree_walk(bst.root)"
   ]
  },
  {
   "cell_type": "markdown",
   "id": "b845fa03",
   "metadata": {},
   "source": [
    "**Pre-order walk** prints nodes top down, visiting __left__ children first."
   ]
  },
  {
   "cell_type": "markdown",
   "id": "02ea1c86",
   "metadata": {},
   "source": [
    "## Search"
   ]
  },
  {
   "cell_type": "code",
   "execution_count": 33,
   "id": "a484628d",
   "metadata": {},
   "outputs": [],
   "source": [
    "def search(self, root, key):\n",
    "    if not root or key==root.val:\n",
    "        return root\n",
    "    if key<root.val:\n",
    "        return search(self,root.left,key)\n",
    "    else:\n",
    "        return search(self,root.right,key)\n",
    "    \n",
    "BST.search = search"
   ]
  },
  {
   "cell_type": "markdown",
   "id": "04f98341",
   "metadata": {},
   "source": [
    "**Search** returns a __pointer__ to the Node in BST with value being the given key.\n",
    "<br>\n",
    "It runs in $O(h)$ time, $h=$height of tree."
   ]
  },
  {
   "cell_type": "code",
   "execution_count": 34,
   "id": "bfe82231",
   "metadata": {},
   "outputs": [
    {
     "name": "stdout",
     "output_type": "stream",
     "text": [
      "<__main__.Node object at 0x107883310>\n",
      "<__main__.Node object at 0x107853090>\n"
     ]
    }
   ],
   "source": [
    "print(bst.search(bst.root,3))\n",
    "print(bst.search(bst.root,0))"
   ]
  },
  {
   "cell_type": "markdown",
   "id": "b59ef5b8",
   "metadata": {},
   "source": [
    "## Min, Max, Successor, Predecessor"
   ]
  },
  {
   "cell_type": "markdown",
   "id": "3814e029",
   "metadata": {},
   "source": [
    "**Min** and **Max** return the minimum and maximum values in a BST."
   ]
  },
  {
   "cell_type": "code",
   "execution_count": 35,
   "id": "0ec2542a",
   "metadata": {},
   "outputs": [],
   "source": [
    "def tree_min(self,root):\n",
    "    while root.left:\n",
    "        root=root.left\n",
    "    return root\n",
    "\n",
    "def tree_max(self,root):\n",
    "    while root.right:\n",
    "        root=root.right\n",
    "    return root\n",
    "\n",
    "BST.tree_min=tree_min\n",
    "BST.tree_max=tree_max"
   ]
  },
  {
   "cell_type": "markdown",
   "id": "980a4207",
   "metadata": {},
   "source": [
    "These functions use the fact that in a BST, $\\forall \\text{nodes}$:\n",
    "<br>\n",
    "$\\text{node.left.val}<\\text{node.val}$\n",
    "<br>\n",
    "$\\text{node.right.val}>\\text{node.val}$\n",
    "<br>\n",
    "They both run in $O(h)$ time."
   ]
  },
  {
   "cell_type": "markdown",
   "id": "3595265b",
   "metadata": {},
   "source": [
    "**Successor** and **predecessor** take a node __x__ and return a pointer to the node __y__ with respectively:\n",
    "- The smallest value greater than x.value\n",
    "- The biggest value smaller than x.value"
   ]
  },
  {
   "cell_type": "code",
   "execution_count": 36,
   "id": "bb6a860f",
   "metadata": {},
   "outputs": [],
   "source": [
    "def tree_successor(self,node):\n",
    "    if node.right:\n",
    "        return tree_min(node.right)\n",
    "        #If right subtree is non-empty, the successor of node is the leftmost subnode of x's right subtree\n",
    "    y=node.parent\n",
    "    while y and node==y.right:\n",
    "        #else y is the lowest ancestor of x whose left child is also ancestor of x\n",
    "        node=y\n",
    "        y=y.parent\n",
    "    return y\n",
    "\n",
    "def tree_predecessor(self,node):\n",
    "    if node.left:\n",
    "        return tree_max(node.left)\n",
    "        #If left subtree is non-empty, the predecessor of node is the rightmost subnode of x's left subtree\n",
    "    y=node.parent\n",
    "    while y and node==y.left:\n",
    "        #else y is the lowest ancestor of x whose right child is also ancestor of x\n",
    "        node=y\n",
    "        y=y.parent\n",
    "    return y\n",
    "\n",
    "BST.tree_successor=tree_successor\n",
    "BST.tree_predecessor=tree_predecessor"
   ]
  },
  {
   "cell_type": "markdown",
   "id": "c07564ab",
   "metadata": {},
   "source": [
    "## Insertion and Deletions"
   ]
  },
  {
   "cell_type": "markdown",
   "id": "642fd3c0",
   "metadata": {},
   "source": [
    "### <font color = red> Insertion </font>"
   ]
  },
  {
   "cell_type": "markdown",
   "id": "07894491",
   "metadata": {},
   "source": [
    "**Insertion** takes a _Node_ with `key=v` and inserts it into a BST in its appropriate place, creating a new node."
   ]
  },
  {
   "cell_type": "code",
   "execution_count": 37,
   "id": "461c13c7",
   "metadata": {},
   "outputs": [],
   "source": [
    "def insertion(self,root,new_node):\n",
    "    y=None\n",
    "    while root:\n",
    "        y=root\n",
    "        if new_node.val<root.val:\n",
    "            root=root.left\n",
    "        else:\n",
    "            root=root.right\n",
    "    new_node.parent=y\n",
    "    if not y:\n",
    "        root=new_node\n",
    "    elif new_node.val<y.val:\n",
    "        y.left=new_node\n",
    "    else:\n",
    "        y.right=new_node\n",
    "BST.insertion=insertion"
   ]
  },
  {
   "cell_type": "markdown",
   "id": "01235995",
   "metadata": {},
   "source": [
    "`root` is a pointer travelling down the tree until it finds a `Null` value where to insert `new_node`. We also maintain a **trailing pointer** `y` that will become the parent of `new_node`. `new_node` becomes left or right child depending on its value compared to `y`'s value.\n",
    "\n",
    "**Insertion** runs on $O(h)$ time."
   ]
  },
  {
   "cell_type": "code",
   "execution_count": 38,
   "id": "ef0d0282",
   "metadata": {},
   "outputs": [
    {
     "name": "stdout",
     "output_type": "stream",
     "text": [
      "    -> 4\n",
      "-> 3\n",
      "        -> 2\n",
      "    -> 1\n",
      "        -> 0\n"
     ]
    }
   ],
   "source": [
    "bst.printTree(bst.root)"
   ]
  },
  {
   "cell_type": "code",
   "execution_count": 39,
   "id": "43d459de",
   "metadata": {},
   "outputs": [
    {
     "name": "stdout",
     "output_type": "stream",
     "text": [
      "        -> 10\n",
      "    -> 4\n",
      "-> 3\n",
      "        -> 2\n",
      "    -> 1\n",
      "        -> 0\n"
     ]
    }
   ],
   "source": [
    "bst.insertion(bst.root,Node(10))\n",
    "bst.printTree(bst.root)"
   ]
  },
  {
   "cell_type": "code",
   "execution_count": 40,
   "id": "f83f5972",
   "metadata": {},
   "outputs": [
    {
     "name": "stdout",
     "output_type": "stream",
     "text": [
      "        -> 10\n",
      "            -> 5\n",
      "    -> 4\n",
      "-> 3\n",
      "        -> 2\n",
      "    -> 1\n",
      "        -> 0\n"
     ]
    }
   ],
   "source": [
    "bst.insertion(bst.root,Node(5))\n",
    "bst.printTree(bst.root)"
   ]
  },
  {
   "cell_type": "markdown",
   "id": "327f705f",
   "metadata": {},
   "source": [
    "### <font color = red> Deletion </font>"
   ]
  },
  {
   "cell_type": "markdown",
   "id": "1acdb8e1",
   "metadata": {},
   "source": [
    "**Deletion** is trickier. Let `z` be the node to delete:\n",
    "- if `z` has no children, we just modify its parents to not have it as child;\n",
    "- if `z` has one child, we make it take the place of `z`;\n",
    "- if `z` has two children, we find `y=successor(z)` and make it replace `z`, including subtree.\n",
    "\n",
    "For the last two points, we need a <font color=red>**transplant**</font> algo.\n",
    "\n",
    "Let `u` be the node to be replaced with `v`."
   ]
  },
  {
   "cell_type": "code",
   "execution_count": 41,
   "id": "5bce403c",
   "metadata": {},
   "outputs": [],
   "source": [
    "def transplant(bst,u,v):\n",
    "    if not u.parent: # u is the root\n",
    "        bst.root=v\n",
    "    elif u==u.parent.left:\n",
    "        u.parent.left=v\n",
    "    else:\n",
    "        u.parent.right=v\n",
    "    if v:\n",
    "        v.parent=u.parent"
   ]
  },
  {
   "cell_type": "markdown",
   "id": "5521be69",
   "metadata": {},
   "source": [
    "Basically node `u`'s parent becomes node `v`'s parent, and `u`'s parent gets `v` as child."
   ]
  },
  {
   "cell_type": "code",
   "execution_count": 43,
   "id": "aa274c77",
   "metadata": {},
   "outputs": [],
   "source": [
    "def deletion(bst, node):\n",
    "    if not node.left:\n",
    "        transplant(bst,node,node.right)\n",
    "    elif not node.right:\n",
    "        transplant(bst,node,node.left)\n",
    "    else:\n",
    "        y=tree_min(node,right)\n",
    "        if y.parent!=node:\n",
    "            transplant(t,y,y.right)\n",
    "            y.right=node.right\n",
    "            y.right.parent=y\n",
    "        transplant(bst, node, y)\n",
    "        y.left=node.left\n",
    "        y.left.parent=y"
   ]
  },
  {
   "cell_type": "code",
   "execution_count": null,
   "id": "200032f9",
   "metadata": {},
   "outputs": [],
   "source": []
  }
 ],
 "metadata": {
  "celltoolbar": "Raw Cell Format",
  "kernelspec": {
   "display_name": "local-venv",
   "language": "python",
   "name": "local-venv"
  },
  "language_info": {
   "codemirror_mode": {
    "name": "ipython",
    "version": 3
   },
   "file_extension": ".py",
   "mimetype": "text/x-python",
   "name": "python",
   "nbconvert_exporter": "python",
   "pygments_lexer": "ipython3",
   "version": "3.11.7"
  }
 },
 "nbformat": 4,
 "nbformat_minor": 5
}
